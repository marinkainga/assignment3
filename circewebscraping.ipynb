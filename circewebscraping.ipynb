{
 "cells": [
  {
   "cell_type": "code",
   "execution_count": 229,
   "id": "a59f268d-ee3f-441d-ae62-45a3f0f23125",
   "metadata": {},
   "outputs": [],
   "source": [
    "import pandas as pd\n",
    "import os"
   ]
  },
  {
   "cell_type": "code",
   "execution_count": 257,
   "id": "d67f4f87-4075-4d40-93eb-4bd95c212acc",
   "metadata": {},
   "outputs": [],
   "source": [
    "import requests\n",
    "from bs4 import BeautifulSoup"
   ]
  },
  {
   "cell_type": "code",
   "execution_count": 259,
   "id": "6072d3a8-1241-4392-9244-ab5b3da3b829",
   "metadata": {},
   "outputs": [],
   "source": [
    "response = requests.get(\"https://www.goodreads.com/book/show/35959740-circe?ac=1&from_search=true&qid=YeqnSQsett&rank=1\")\n",
    "html_string = response.text"
   ]
  },
  {
   "cell_type": "code",
   "execution_count": 261,
   "id": "3402a3ac-6c61-46c3-9564-301c1ff9b3b3",
   "metadata": {},
   "outputs": [],
   "source": [
    "document = BeautifulSoup(html_string, \"html.parser\")"
   ]
  },
  {
   "cell_type": "code",
   "execution_count": 263,
   "id": "de82c402-352a-42f2-ad8f-45bf87bde0c3",
   "metadata": {},
   "outputs": [
    {
     "data": {
      "text/plain": [
       "[<h1 aria-label=\"Book title: Circe\" class=\"Text Text__title1\" data-testid=\"bookTitle\">Circe</h1>]"
      ]
     },
     "execution_count": 263,
     "metadata": {},
     "output_type": "execute_result"
    }
   ],
   "source": [
    "book_title_tag = document.find_all(\"h1\", attrs={\"class\": \"Text Text__title1\"})\n",
    "book_title_tag"
   ]
  },
  {
   "cell_type": "code",
   "execution_count": 265,
   "id": "8968f312-e21b-4eaa-ae90-7d70543c5199",
   "metadata": {},
   "outputs": [],
   "source": [
    "book_title = []\n",
    "\n",
    "for title in book_title_tag:\n",
    "    book_titles = title.text\n",
    "    book_title.append(book_titles)"
   ]
  },
  {
   "cell_type": "code",
   "execution_count": 267,
   "id": "ef23d411-996e-4123-a6e9-7bdc26ec46a9",
   "metadata": {},
   "outputs": [
    {
     "data": {
      "text/plain": [
       "['Circe']"
      ]
     },
     "execution_count": 267,
     "metadata": {},
     "output_type": "execute_result"
    }
   ],
   "source": [
    "book_title"
   ]
  },
  {
   "cell_type": "code",
   "execution_count": 269,
   "id": "08fa0cbd-a2b7-4e0f-be9c-3170ea038fd4",
   "metadata": {},
   "outputs": [
    {
     "data": {
      "text/plain": [
       "[<span class=\"ContributorLink__name\" data-testid=\"name\">Madeline Miller</span>,\n",
       " <span class=\"ContributorLink__name\" data-testid=\"name\">Madeline Miller</span>]"
      ]
     },
     "execution_count": 269,
     "metadata": {},
     "output_type": "execute_result"
    }
   ],
   "source": [
    "book_author_tag = document.find_all(\"span\", attrs={\"class\": \"ContributorLink__name\"})\n",
    "book_author_tag"
   ]
  },
  {
   "cell_type": "code",
   "execution_count": 245,
   "id": "a57d8b31-00bf-4967-9e15-30516229de49",
   "metadata": {},
   "outputs": [],
   "source": [
    "book_author = []\n",
    "\n",
    "for author in book_author_tag:\n",
    "    book_authors = author.text\n",
    "    book_author.append(book_authors)"
   ]
  },
  {
   "cell_type": "code",
   "execution_count": 247,
   "id": "c04fd9e1-7b95-4fc7-bb1e-47eaeae7742f",
   "metadata": {},
   "outputs": [
    {
     "data": {
      "text/plain": [
       "['Madeline Miller', 'Madeline Miller']"
      ]
     },
     "execution_count": 247,
     "metadata": {},
     "output_type": "execute_result"
    }
   ],
   "source": [
    "book_author"
   ]
  },
  {
   "cell_type": "code",
   "execution_count": 127,
   "id": "a067324a-a620-4d07-a9cb-08bb2260e219",
   "metadata": {},
   "outputs": [],
   "source": [
    "publication_tag = document.find_all(\"p\", attrs={\"data-testid\": \"publicationInfo\"})"
   ]
  },
  {
   "cell_type": "code",
   "execution_count": 129,
   "id": "fbd59e83-f134-43ca-988e-2029fa651742",
   "metadata": {},
   "outputs": [
    {
     "data": {
      "text/plain": [
       "[<p data-testid=\"publicationInfo\">First published April 10, 2018</p>]"
      ]
     },
     "execution_count": 129,
     "metadata": {},
     "output_type": "execute_result"
    }
   ],
   "source": [
    "publication_tag"
   ]
  },
  {
   "cell_type": "code",
   "execution_count": 137,
   "id": "ebf5b993-26e0-4c2f-95a6-ae0abb4cf978",
   "metadata": {},
   "outputs": [],
   "source": [
    "pub_date= []\n",
    "\n",
    "for date in publication_tag:\n",
    "    pubdate = date.text\n",
    "    pub_date.append(pubdate)"
   ]
  },
  {
   "cell_type": "code",
   "execution_count": 139,
   "id": "fe98631a-db7c-4c85-8d5e-f9fa21d6741c",
   "metadata": {},
   "outputs": [
    {
     "data": {
      "text/plain": [
       "['First published April 10, 2018']"
      ]
     },
     "execution_count": 139,
     "metadata": {},
     "output_type": "execute_result"
    }
   ],
   "source": [
    "pub_date"
   ]
  },
  {
   "cell_type": "code",
   "execution_count": 143,
   "id": "bf2f615c-ffed-4efd-9478-6f762ca2ddb8",
   "metadata": {},
   "outputs": [
    {
     "data": {
      "text/plain": [
       "[<p data-testid=\"pagesFormat\">393 pages, Hardcover</p>]"
      ]
     },
     "execution_count": 143,
     "metadata": {},
     "output_type": "execute_result"
    }
   ],
   "source": [
    "pages_tag = document.find_all(\"p\", attrs={\"data-testid\": \"pagesFormat\"})\n",
    "pages_tag"
   ]
  },
  {
   "cell_type": "code",
   "execution_count": 147,
   "id": "df06445e-a126-47b6-98f2-ce1cd5193307",
   "metadata": {},
   "outputs": [],
   "source": [
    "page_num= []\n",
    "\n",
    "for num in pages_tag:\n",
    "    pagenum = num.text\n",
    "    page_num.append(pagenum)"
   ]
  },
  {
   "cell_type": "code",
   "execution_count": 149,
   "id": "3d388c9d-598e-4c6e-b2c9-910a994d7630",
   "metadata": {},
   "outputs": [
    {
     "data": {
      "text/plain": [
       "['393 pages, Hardcover']"
      ]
     },
     "execution_count": 149,
     "metadata": {},
     "output_type": "execute_result"
    }
   ],
   "source": [
    "page_num"
   ]
  },
  {
   "cell_type": "code",
   "execution_count": 173,
   "id": "bc34727c-b52f-4444-b5e9-30678d970a13",
   "metadata": {},
   "outputs": [
    {
     "name": "stdout",
     "output_type": "stream",
     "text": [
      "In the house of Helios, god of the sun and mightiest of the Titans, a daughter is born. But Circe is a strange child--neither powerful like her father nor viciously alluring like her mother. Turning to the world of mortals for companionship, she discovers that she does possess power: the power of witchcraft, which can transform rivals into monsters and menace the gods themselves. Threatened, Zeus banishes her to a deserted island, where she hones her occult craft, tames wild beasts, and crosses paths with many of the most famous figures in all of mythology, including the Minotaur, Daedalus and his doomed son Icarus, the murderous Medea, and, of course, wily Odysseus. But there is danger, too, for a woman who stands alone, and Circe unwittingly draws the wrath of both men and gods, ultimately finding herself pitted against one of the most terrifying and vengeful of the Olympians. To protect what she loves most, Circe must summon all her strength and choose, once and for all, whether she belongs with the gods she is born from or with the mortals she has come to love.\n",
      "Madeline Miller was born in Boston and grew up in New York City and Philadelphia. She attended Brown University, where she earned her BA and MA in Classics. For the last ten years she has been teaching and tutoring Latin, Greek and Shakespeare to high school students. She has also studied at the University of Chicago’s Committee on Social Thought, and in the Dramaturgy department at Yale School of Drama, where she focused on the adaptation of classical texts to modern forms. She currently lives in Cambridge, MA, where she teaches and writes.  The Song of Achilles  is her first novel.\n"
     ]
    }
   ],
   "source": [
    "summary_tag = document.find_all(\"div\", attrs={\"class\":\"DetailsLayoutRightParagraph__widthConstrained\"})\n",
    "\n",
    "summary = []\n",
    "for content in summary_tag:\n",
    "    line = content.get_text(separator=\" \")\n",
    "    summary.append(line)\n",
    "\n",
    "for content in summary:\n",
    "    print(content)"
   ]
  },
  {
   "cell_type": "code",
   "execution_count": 151,
   "id": "96ddc70c-6b37-4de1-b3fa-4d8b8ca42c38",
   "metadata": {},
   "outputs": [],
   "source": [
    "import re"
   ]
  },
  {
   "cell_type": "code",
   "execution_count": 211,
   "id": "dab96d63-e388-4783-8835-b12329f4b859",
   "metadata": {},
   "outputs": [],
   "source": [
    "clean_data = \"['Circe']\" \"['Madeline Miller', 'Madeline Miller']\"\"['First published April 10, 2018']\" \"['393 pages, Hardcover']\""
   ]
  },
  {
   "cell_type": "code",
   "execution_count": 223,
   "id": "4fa494e2-68d5-4e5f-8c61-95948e9c521c",
   "metadata": {},
   "outputs": [
    {
     "name": "stderr",
     "output_type": "stream",
     "text": [
      "<>:1: SyntaxWarning: invalid escape sequence '\\W'\n",
      "<>:1: SyntaxWarning: invalid escape sequence '\\W'\n",
      "/var/folders/l8/r7pghqld70117g6hmhn2bx980000gn/T/ipykernel_34584/1473940928.py:1: SyntaxWarning: invalid escape sequence '\\W'\n",
      "  re.sub(\"\\W+\", \" \", clean_data)\n"
     ]
    },
    {
     "data": {
      "text/plain": [
       "' Circe Madeline Miller Madeline Miller First published April 10 2018 393 pages Hardcover '"
      ]
     },
     "execution_count": 223,
     "metadata": {},
     "output_type": "execute_result"
    }
   ],
   "source": [
    "re.sub(\"\\W+\", \" \", clean_data)"
   ]
  },
  {
   "cell_type": "code",
   "execution_count": null,
   "id": "a6173162-9ebc-457d-a8fa-417bb581313e",
   "metadata": {},
   "outputs": [],
   "source": []
  }
 ],
 "metadata": {
  "kernelspec": {
   "display_name": "Python 3 (ipykernel)",
   "language": "python",
   "name": "python3"
  },
  "language_info": {
   "codemirror_mode": {
    "name": "ipython",
    "version": 3
   },
   "file_extension": ".py",
   "mimetype": "text/x-python",
   "name": "python",
   "nbconvert_exporter": "python",
   "pygments_lexer": "ipython3",
   "version": "3.12.4"
  }
 },
 "nbformat": 4,
 "nbformat_minor": 5
}
