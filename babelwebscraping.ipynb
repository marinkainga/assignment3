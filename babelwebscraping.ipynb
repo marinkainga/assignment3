{
 "cells": [
  {
   "cell_type": "code",
   "execution_count": 61,
   "id": "fe4b15ab-97dd-4d8a-a776-5351d30929a0",
   "metadata": {},
   "outputs": [],
   "source": [
    "import pandas as pd\n",
    "import os"
   ]
  },
  {
   "cell_type": "code",
   "execution_count": 3,
   "id": "f6a2768d-4346-4a57-bb8a-1096598a79db",
   "metadata": {},
   "outputs": [],
   "source": [
    "import requests\n",
    "from bs4 import BeautifulSoup"
   ]
  },
  {
   "cell_type": "code",
   "execution_count": 5,
   "id": "657ee0b0-d193-46d5-985f-616a485a6023",
   "metadata": {},
   "outputs": [],
   "source": [
    "response = requests.get(\"https://www.goodreads.com/book/show/534304.The_Power_of_Babel\")\n",
    "html_string = response.text"
   ]
  },
  {
   "cell_type": "code",
   "execution_count": 7,
   "id": "ab97aefa-2a15-491d-9435-58b2ccdb6f7a",
   "metadata": {},
   "outputs": [],
   "source": [
    "document = BeautifulSoup(html_string, \"html.parser\")"
   ]
  },
  {
   "cell_type": "code",
   "execution_count": 9,
   "id": "0da3173e-87a0-41ae-b645-38fb13a4533c",
   "metadata": {},
   "outputs": [
    {
     "data": {
      "text/plain": [
       "[<h1 aria-label=\"Book title: The Power of Babel: A Natural History of Language\" class=\"Text Text__title1\" data-testid=\"bookTitle\">The Power of Babel: A Natural History of Language</h1>]"
      ]
     },
     "execution_count": 9,
     "metadata": {},
     "output_type": "execute_result"
    }
   ],
   "source": [
    "book_title_tag = document.find_all(\"h1\", attrs={\"class\": \"Text Text__title1\"})\n",
    "book_title_tag"
   ]
  },
  {
   "cell_type": "code",
   "execution_count": 11,
   "id": "bbee2fea-a350-4a29-8a9e-c72d3756fa19",
   "metadata": {},
   "outputs": [],
   "source": [
    "book_title = []\n",
    "\n",
    "for title in book_title_tag:\n",
    "    book_titles = title.text\n",
    "    book_title.append(book_titles)"
   ]
  },
  {
   "cell_type": "code",
   "execution_count": 13,
   "id": "1fe4c872-15c4-4093-8378-77270da2abaa",
   "metadata": {},
   "outputs": [
    {
     "data": {
      "text/plain": [
       "['The Power of Babel: A Natural History of Language']"
      ]
     },
     "execution_count": 13,
     "metadata": {},
     "output_type": "execute_result"
    }
   ],
   "source": [
    "book_title"
   ]
  },
  {
   "cell_type": "code",
   "execution_count": 15,
   "id": "1da63251-8ad1-49f2-999a-906bb2af1186",
   "metadata": {},
   "outputs": [
    {
     "data": {
      "text/plain": [
       "[<span class=\"ContributorLink__name\" data-testid=\"name\">John McWhorter</span>,\n",
       " <span class=\"ContributorLink__name\" data-testid=\"name\">John McWhorter</span>]"
      ]
     },
     "execution_count": 15,
     "metadata": {},
     "output_type": "execute_result"
    }
   ],
   "source": [
    "book_author_tag = document.find_all(\"span\", attrs={\"class\": \"ContributorLink__name\"})\n",
    "book_author_tag"
   ]
  },
  {
   "cell_type": "code",
   "execution_count": 33,
   "id": "e6d9e2ca-aed5-4e81-90da-184a4af7d1e5",
   "metadata": {},
   "outputs": [],
   "source": [
    "book_author = []\n",
    "\n",
    "for author in book_author_tag:\n",
    "    book_authors = author.text\n",
    "    book_author.append(book_authors)"
   ]
  },
  {
   "cell_type": "code",
   "execution_count": 35,
   "id": "ab4e981b-306c-45d8-862c-08d8eeafd79d",
   "metadata": {},
   "outputs": [
    {
     "data": {
      "text/plain": [
       "['John McWhorter', 'John McWhorter']"
      ]
     },
     "execution_count": 35,
     "metadata": {},
     "output_type": "execute_result"
    }
   ],
   "source": [
    "book_author"
   ]
  },
  {
   "cell_type": "code",
   "execution_count": 37,
   "id": "b5caf47b-dfa2-4122-a95d-24e12bd8b9f4",
   "metadata": {},
   "outputs": [],
   "source": [
    "publication_tag = document.find_all(\"p\", attrs={\"data-testid\": \"publicationInfo\"})"
   ]
  },
  {
   "cell_type": "code",
   "execution_count": 39,
   "id": "c3e682ba-1b6c-40e5-81c0-78c9868c023b",
   "metadata": {},
   "outputs": [
    {
     "data": {
      "text/plain": [
       "[<p data-testid=\"publicationInfo\">First published January 1, 2001</p>]"
      ]
     },
     "execution_count": 39,
     "metadata": {},
     "output_type": "execute_result"
    }
   ],
   "source": [
    "publication_tag"
   ]
  },
  {
   "cell_type": "code",
   "execution_count": 45,
   "id": "d012e3d5-008a-4753-a683-d4668468af1e",
   "metadata": {},
   "outputs": [],
   "source": [
    "pub_date= []\n",
    "\n",
    "for date in publication_tag:\n",
    "    pubdate = date.text\n",
    "    pub_date.append(pubdate)"
   ]
  },
  {
   "cell_type": "code",
   "execution_count": 47,
   "id": "36aa8e14-11a4-4a2d-a24a-53c598d9e070",
   "metadata": {},
   "outputs": [
    {
     "data": {
      "text/plain": [
       "['First published January 1, 2001']"
      ]
     },
     "execution_count": 47,
     "metadata": {},
     "output_type": "execute_result"
    }
   ],
   "source": [
    "pub_date"
   ]
  },
  {
   "cell_type": "code",
   "execution_count": 49,
   "id": "0a05fd5f-9641-4a5f-8d2c-458d766605d5",
   "metadata": {},
   "outputs": [
    {
     "data": {
      "text/plain": [
       "[<p data-testid=\"pagesFormat\">352 pages, Paperback</p>]"
      ]
     },
     "execution_count": 49,
     "metadata": {},
     "output_type": "execute_result"
    }
   ],
   "source": [
    "pages_tag = document.find_all(\"p\", attrs={\"data-testid\": \"pagesFormat\"})\n",
    "pages_tag"
   ]
  },
  {
   "cell_type": "code",
   "execution_count": 51,
   "id": "85b2d079-1463-41d4-b9cb-110996002114",
   "metadata": {},
   "outputs": [],
   "source": [
    "page_num= []\n",
    "\n",
    "for num in pages_tag:\n",
    "    pagenum = num.text\n",
    "    page_num.append(pagenum)"
   ]
  },
  {
   "cell_type": "code",
   "execution_count": 53,
   "id": "cf85591a-8489-42e2-bdc2-39a0ae7b79cf",
   "metadata": {},
   "outputs": [
    {
     "data": {
      "text/plain": [
       "['352 pages, Paperback']"
      ]
     },
     "execution_count": 53,
     "metadata": {},
     "output_type": "execute_result"
    }
   ],
   "source": [
    "page_num"
   ]
  },
  {
   "cell_type": "code",
   "execution_count": 65,
   "id": "609250f3-5786-498a-9093-5617778fbffd",
   "metadata": {},
   "outputs": [
    {
     "name": "stdout",
     "output_type": "stream",
     "text": [
      "There are approximately six thousand languages on Earth today, each a descendant of the tongue first spoken by Homo sapiens some 150,000 years ago. While laying out how languages mix and mutate over time, linguistics professor John McWhorter reminds us of the variety within the species that speaks them, and argues that, contrary to popular perception, language is not immutable and hidebound, but a living, dynamic entity that adapts itself to an ever-changing human environment. Full of humor and imaginative insight,  The Power of Babel  draws its illustrative examples from languages around the world, including pidgins, Creoles, and nonstandard dialects.\n",
      "John Hamilton McWhorter ( Professor McWhorter uses neither his title nor his middle initial as an author ) is an American academic and linguist who is Associate Professor of English and Comparative Literature at Columbia University, where he teaches linguistics, American studies, philosophy, and music history. He is the author of a number of books on language and on race relations. His research specializes on how creole languages form, and how language grammars change as the result of sociohistorical phenomena. A popular writer, McWhorter has written for Time, The Wall Street Journal, The Atlantic, The Chronicle of Higher Education, The New York Times, The Washington Post, The New Republic, Politico, Forbes, The Chicago Tribune, The New York Daily News, City Journal, The New Yorker, among others; he is also contributing editor at The Atlantic and hosts Slate's Lexicon Valley podcas\n"
     ]
    }
   ],
   "source": [
    "summary_tag = document.find_all(\"div\", attrs={\"class\":\"DetailsLayoutRightParagraph__widthConstrained\"})\n",
    "\n",
    "summary = []\n",
    "for content in summary_tag:\n",
    "    line = content.get_text(separator=\" \")\n",
    "    summary.append(line)\n",
    "\n",
    "for content in summary:\n",
    "    print(content)"
   ]
  },
  {
   "cell_type": "code",
   "execution_count": 55,
   "id": "947fa1f9-8a99-43a5-a2e8-0c3369b2b303",
   "metadata": {},
   "outputs": [],
   "source": []
  },
  {
   "cell_type": "code",
   "execution_count": 57,
   "id": "965efde6-7695-497e-847c-a2b84a65d614",
   "metadata": {},
   "outputs": [],
   "source": [
    "clean_data = \"['The Power of Babel: A Natural History of Language'] ['First published January 1, 2001']['352 pages, Paperback']\""
   ]
  },
  {
   "cell_type": "code",
   "execution_count": 59,
   "id": "65beaea5-0528-4324-938f-ca4a6032d0a9",
   "metadata": {},
   "outputs": [
    {
     "name": "stderr",
     "output_type": "stream",
     "text": [
      "<>:1: SyntaxWarning: invalid escape sequence '\\W'\n",
      "<>:1: SyntaxWarning: invalid escape sequence '\\W'\n",
      "/var/folders/l8/r7pghqld70117g6hmhn2bx980000gn/T/ipykernel_38690/1473940928.py:1: SyntaxWarning: invalid escape sequence '\\W'\n",
      "  re.sub(\"\\W+\", \" \", clean_data)\n"
     ]
    },
    {
     "data": {
      "text/plain": [
       "' The Power of Babel A Natural History of Language First published January 1 2001 352 pages Paperback '"
      ]
     },
     "execution_count": 59,
     "metadata": {},
     "output_type": "execute_result"
    }
   ],
   "source": [
    "re.sub(\"\\W+\", \" \", clean_data)"
   ]
  },
  {
   "cell_type": "code",
   "execution_count": null,
   "id": "c1aa5015-078b-4ef4-9c52-ef9a4dc6a45d",
   "metadata": {},
   "outputs": [],
   "source": []
  }
 ],
 "metadata": {
  "kernelspec": {
   "display_name": "Python 3 (ipykernel)",
   "language": "python",
   "name": "python3"
  },
  "language_info": {
   "codemirror_mode": {
    "name": "ipython",
    "version": 3
   },
   "file_extension": ".py",
   "mimetype": "text/x-python",
   "name": "python",
   "nbconvert_exporter": "python",
   "pygments_lexer": "ipython3",
   "version": "3.12.4"
  }
 },
 "nbformat": 4,
 "nbformat_minor": 5
}
