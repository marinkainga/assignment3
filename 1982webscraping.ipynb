{
 "cells": [
  {
   "cell_type": "code",
   "execution_count": 43,
   "id": "970233b7-316a-40e3-956d-3c1d2bf22af5",
   "metadata": {},
   "outputs": [],
   "source": [
    "import pandas as pd\n",
    "import os"
   ]
  },
  {
   "cell_type": "code",
   "execution_count": 3,
   "id": "526d86b1-edc7-4473-9dac-ed8d77d6fecf",
   "metadata": {},
   "outputs": [],
   "source": [
    "import requests\n",
    "from bs4 import BeautifulSoup"
   ]
  },
  {
   "cell_type": "code",
   "execution_count": 4,
   "id": "2ffd651f-6b82-4522-a3ec-8f233912a88f",
   "metadata": {},
   "outputs": [],
   "source": [
    "response = requests.get(\"https://www.goodreads.com/book/show/46041199-kim-jiyoung-born-1982\")\n",
    "html_string = response.text"
   ]
  },
  {
   "cell_type": "code",
   "execution_count": 6,
   "id": "f3053a53-5254-4300-b6aa-575ac2838db0",
   "metadata": {},
   "outputs": [],
   "source": [
    "document = BeautifulSoup(html_string, \"html.parser\")"
   ]
  },
  {
   "cell_type": "code",
   "execution_count": 7,
   "id": "0b982ed1-8e06-4f7a-ac92-dded7bc0795a",
   "metadata": {},
   "outputs": [
    {
     "data": {
      "text/plain": [
       "[<h1 aria-label=\"Book title: Kim Jiyoung, Born 1982\" class=\"Text Text__title1\" data-testid=\"bookTitle\">Kim Jiyoung, Born 1982</h1>]"
      ]
     },
     "execution_count": 7,
     "metadata": {},
     "output_type": "execute_result"
    }
   ],
   "source": [
    "book_title_tag = document.find_all(\"h1\", attrs={\"class\": \"Text Text__title1\"})\n",
    "book_title_tag"
   ]
  },
  {
   "cell_type": "code",
   "execution_count": 8,
   "id": "153a9996-3174-476f-9c85-848509eb8002",
   "metadata": {},
   "outputs": [],
   "source": [
    "book_title = []\n",
    "\n",
    "for title in book_title_tag:\n",
    "    book_titles = title.text\n",
    "    book_title.append(book_titles)"
   ]
  },
  {
   "cell_type": "code",
   "execution_count": 13,
   "id": "81c57125-dbf0-4176-b899-e6e14922aeda",
   "metadata": {},
   "outputs": [
    {
     "data": {
      "text/plain": [
       "['Kim Jiyoung, Born 1982']"
      ]
     },
     "execution_count": 13,
     "metadata": {},
     "output_type": "execute_result"
    }
   ],
   "source": [
    "book_title"
   ]
  },
  {
   "cell_type": "code",
   "execution_count": 15,
   "id": "44af2d0e-f6ff-4d5a-b605-8d2e9f299ed5",
   "metadata": {},
   "outputs": [
    {
     "data": {
      "text/plain": [
       "[<span class=\"ContributorLink__name\" data-testid=\"name\">Cho Nam-Joo</span>,\n",
       " <span class=\"ContributorLink__name\" data-testid=\"name\">Jamie Chang</span>,\n",
       " <span class=\"ContributorLink__name\" data-testid=\"name\">Cho Nam-Joo</span>]"
      ]
     },
     "execution_count": 15,
     "metadata": {},
     "output_type": "execute_result"
    }
   ],
   "source": [
    "book_author_tag = document.find_all(\"span\", attrs={\"class\": \"ContributorLink__name\"})\n",
    "book_author_tag"
   ]
  },
  {
   "cell_type": "code",
   "execution_count": 17,
   "id": "6adfc275-1cff-4d37-94eb-e96c2755753a",
   "metadata": {},
   "outputs": [],
   "source": [
    "book_author = []\n",
    "\n",
    "for author in book_author_tag:\n",
    "    book_authors = author.text\n",
    "    book_author.append(book_authors)"
   ]
  },
  {
   "cell_type": "code",
   "execution_count": 19,
   "id": "ca76c0cf-905a-41cb-9aa8-a51716ab88f5",
   "metadata": {},
   "outputs": [
    {
     "data": {
      "text/plain": [
       "['Cho Nam-Joo', 'Jamie Chang', 'Cho Nam-Joo']"
      ]
     },
     "execution_count": 19,
     "metadata": {},
     "output_type": "execute_result"
    }
   ],
   "source": [
    "book_author"
   ]
  },
  {
   "cell_type": "code",
   "execution_count": 21,
   "id": "4856dbde-969e-4c6a-b444-2e95e1037ba3",
   "metadata": {},
   "outputs": [],
   "source": [
    "publication_tag = document.find_all(\"p\", attrs={\"data-testid\": \"publicationInfo\"})"
   ]
  },
  {
   "cell_type": "code",
   "execution_count": 23,
   "id": "49f0fea9-5801-473b-a55d-e3d6363bc004",
   "metadata": {},
   "outputs": [
    {
     "data": {
      "text/plain": [
       "[<p data-testid=\"publicationInfo\">First published October 14, 2016</p>]"
      ]
     },
     "execution_count": 23,
     "metadata": {},
     "output_type": "execute_result"
    }
   ],
   "source": [
    "publication_tag"
   ]
  },
  {
   "cell_type": "code",
   "execution_count": 25,
   "id": "20efcbbc-ac4d-4f2b-90bc-6b7465b27beb",
   "metadata": {},
   "outputs": [],
   "source": [
    "pub_date= []\n",
    "\n",
    "for date in publication_tag:\n",
    "    pubdate = date.text\n",
    "    pub_date.append(pubdate)"
   ]
  },
  {
   "cell_type": "code",
   "execution_count": 27,
   "id": "489efd6c-4f45-4628-bee6-f0de56cbfa72",
   "metadata": {},
   "outputs": [
    {
     "data": {
      "text/plain": [
       "['First published October 14, 2016']"
      ]
     },
     "execution_count": 27,
     "metadata": {},
     "output_type": "execute_result"
    }
   ],
   "source": [
    "pub_date"
   ]
  },
  {
   "cell_type": "code",
   "execution_count": 29,
   "id": "912a7622-a14e-4c00-80db-6a33858e05cf",
   "metadata": {},
   "outputs": [
    {
     "data": {
      "text/plain": [
       "[<p data-testid=\"pagesFormat\">163 pages, Hardcover</p>]"
      ]
     },
     "execution_count": 29,
     "metadata": {},
     "output_type": "execute_result"
    }
   ],
   "source": [
    "pages_tag = document.find_all(\"p\", attrs={\"data-testid\": \"pagesFormat\"})\n",
    "pages_tag"
   ]
  },
  {
   "cell_type": "code",
   "execution_count": 31,
   "id": "71ad0ab3-8485-4169-bb96-1eebff571f26",
   "metadata": {},
   "outputs": [],
   "source": [
    "page_num= []\n",
    "\n",
    "for num in pages_tag:\n",
    "    pagenum = num.text\n",
    "    page_num.append(pagenum)"
   ]
  },
  {
   "cell_type": "code",
   "execution_count": 33,
   "id": "ca3d9346-bdf9-4826-8446-2ce1d9600a81",
   "metadata": {},
   "outputs": [
    {
     "data": {
      "text/plain": [
       "['163 pages, Hardcover']"
      ]
     },
     "execution_count": 33,
     "metadata": {},
     "output_type": "execute_result"
    }
   ],
   "source": [
    "page_num"
   ]
  },
  {
   "cell_type": "code",
   "execution_count": 27,
   "id": "19eb9b3b-b774-4326-95c7-e7c81e93ba00",
   "metadata": {},
   "outputs": [
    {
     "name": "stdout",
     "output_type": "stream",
     "text": [
      "A fierce international bestseller that launched Korea’s new feminist movement,  Kim Jiyoung, Born 1982  follows one woman’s psychic deterioration in the face of rigid misogyny. Truly, flawlessly, completely, she became that person. In a small, tidy apartment on the outskirts of the frenzied metropolis of Seoul lives Kim Jiyoung. A thirtysomething-year-old “millennial everywoman,” she has recently left her white-collar desk job—in order to care for her newborn daughter full-time—as so many Korean women are expected to do. But she quickly begins to exhibit strange symptoms that alarm her husband, parents, and in-laws: Jiyoung impersonates the voices of other women—alive and even dead, both known and unknown to her. As she plunges deeper into this psychosis, her discomfited husband sends her to a male psychiatrist. In a chilling, eerily truncated third-person voice, Jiyoung’s entire life is recounted to the psychiatrist—a narrative infused with disparate elements of frustration, perseverance, and submission. Born in 1982 and given the most common name for Korean baby girls, Jiyoung quickly becomes the unfavored sister to her princeling little brother. Always, her behavior is policed by the male figures around her—from the elementary school teachers who enforce strict uniforms for girls, to the coworkers who install a hidden camera in the women’s restroom and post their photos online. In her father’s eyes, it is Jiyoung’s fault that men harass her late at night; in her husband’s eyes, it is Jiyoung’s duty to forsake her career to take care of him and their child—to put them first. Jiyoung’s painfully common life is juxtaposed against a backdrop of an advancing Korea, as it abandons “family planning” birth control policies and passes new legislation against gender discrimination. But can her doctor flawlessly, completely cure her, or even discover what truly ails her? Rendered in minimalist yet lacerating prose,  Kim Jiyoung, Born 1982  sits at the center of our global #MeToo movement and announces the arrival of writer of international significance\n",
      "Associated Names: *  조남주  (Korean) *  Cho Nam-Joo  (English) *  趙南柱  (Chinese) *  โชนัมจู  (Thai) *  チョ・ナムジュ  (Japanese) Cho Nam-joo is a former television scriptwriter. In the writing of  Kim Jiyoung, Born 1982  she drew partly on her own experience as a woman who quit her job to stay at home after giving birth to a child. Kim Jiyoung, Born 1982  is her third novel. It has had a profound impact on gender inequality and discrimination in Korean society, and has been translated into 18 languages.\n"
     ]
    }
   ],
   "source": [
    "summary_tag = document.find_all(\"div\", attrs={\"class\":\"DetailsLayoutRightParagraph__widthConstrained\"})\n",
    "\n",
    "summary = []\n",
    "for content in summary_tag:\n",
    "    line = content.get_text(separator=\" \")\n",
    "    summary.append(line)\n",
    "\n",
    "for content in summary:\n",
    "    print(content)"
   ]
  },
  {
   "cell_type": "code",
   "execution_count": 35,
   "id": "de6d2c77-d325-4797-8590-506c6bec5878",
   "metadata": {},
   "outputs": [],
   "source": [
    "import re"
   ]
  },
  {
   "cell_type": "code",
   "execution_count": 39,
   "id": "d6637241-0f5d-4aec-9252-95024cd32f94",
   "metadata": {},
   "outputs": [],
   "source": [
    "clean_data = \"['Kim Jiyoung, Born 1982'] ['First published October 14, 2016']['163 pages, Hardcover']\""
   ]
  },
  {
   "cell_type": "code",
   "execution_count": 41,
   "id": "5a44a6ad-1001-46e3-a17f-15ef571c64e9",
   "metadata": {},
   "outputs": [
    {
     "name": "stderr",
     "output_type": "stream",
     "text": [
      "<>:1: SyntaxWarning: invalid escape sequence '\\W'\n",
      "<>:1: SyntaxWarning: invalid escape sequence '\\W'\n",
      "/var/folders/l8/r7pghqld70117g6hmhn2bx980000gn/T/ipykernel_41659/1473940928.py:1: SyntaxWarning: invalid escape sequence '\\W'\n",
      "  re.sub(\"\\W+\", \" \", clean_data)\n"
     ]
    },
    {
     "data": {
      "text/plain": [
       "' Kim Jiyoung Born 1982 First published October 14 2016 163 pages Hardcover '"
      ]
     },
     "execution_count": 41,
     "metadata": {},
     "output_type": "execute_result"
    }
   ],
   "source": [
    "re.sub(\"\\W+\", \" \", clean_data)"
   ]
  },
  {
   "cell_type": "code",
   "execution_count": null,
   "id": "0786a62d-f9a5-4db2-8c50-eafb5f3250b5",
   "metadata": {},
   "outputs": [],
   "source": []
  }
 ],
 "metadata": {
  "kernelspec": {
   "display_name": "Python 3 (ipykernel)",
   "language": "python",
   "name": "python3"
  },
  "language_info": {
   "codemirror_mode": {
    "name": "ipython",
    "version": 3
   },
   "file_extension": ".py",
   "mimetype": "text/x-python",
   "name": "python",
   "nbconvert_exporter": "python",
   "pygments_lexer": "ipython3",
   "version": "3.12.4"
  }
 },
 "nbformat": 4,
 "nbformat_minor": 5
}
